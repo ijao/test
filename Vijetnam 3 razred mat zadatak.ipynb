{
 "metadata": {
  "name": "",
  "signature": "sha256:e683e1638d9a8f74895e12b84fa5ca835f3c56f3bd76c3c148a1a71165740f45"
 },
 "nbformat": 3,
 "nbformat_minor": 0,
 "worksheets": [
  {
   "cells": [
    {
     "cell_type": "code",
     "collapsed": false,
     "input": [
      "from __future__ import division\n",
      "import random\n",
      "for i in range (5000):\n",
      "    proba = random.sample(xrange(1,10), 9)\n",
      "    if (proba[0]+13*proba[1]/proba[2]+proba[3]+12*proba[4]-proba[5]-11+proba[6]*proba[7]/proba[8]-10) ==66:\n",
      "        print proba"
     ],
     "language": "python",
     "metadata": {},
     "outputs": [
      {
       "output_type": "stream",
       "stream": "stdout",
       "text": [
        "[1, 3, 4, 7, 6, 5, 2, 9, 8]\n"
       ]
      }
     ],
     "prompt_number": 15
    },
    {
     "cell_type": "code",
     "collapsed": false,
     "input": [
      "1+13*3/4+7+12*6-5-11+2*9/8-10"
     ],
     "language": "python",
     "metadata": {},
     "outputs": [
      {
       "metadata": {},
       "output_type": "pyout",
       "prompt_number": 17,
       "text": [
        "66.0"
       ]
      }
     ],
     "prompt_number": 17
    },
    {
     "cell_type": "code",
     "collapsed": false,
     "input": [],
     "language": "python",
     "metadata": {},
     "outputs": [
      {
       "output_type": "stream",
       "stream": "stdout",
       "text": [
        "2.5\n"
       ]
      }
     ],
     "prompt_number": 10
    },
    {
     "cell_type": "code",
     "collapsed": false,
     "input": [],
     "language": "python",
     "metadata": {},
     "outputs": []
    }
   ],
   "metadata": {}
  }
 ]
}